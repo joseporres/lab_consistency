{
 "cells": [
  {
   "cell_type": "code",
   "execution_count": 2,
   "metadata": {},
   "outputs": [],
   "source": [
    "import requests\n",
    "import xml.etree.ElementTree as ET"
   ]
  },
  {
   "cell_type": "code",
   "execution_count": 3,
   "metadata": {},
   "outputs": [],
   "source": [
    "DELTA = 0.01"
   ]
  },
  {
   "cell_type": "code",
   "execution_count": 4,
   "metadata": {},
   "outputs": [],
   "source": [
    "def create_bounding_box(latitude, longitude, delta):\n",
    "      # Calculate the latitude and longitude for the upper-left corner of the bounding box\n",
    "    upper_left_lat = round(latitude - delta, 7)\n",
    "    upper_left_lon = round(longitude - delta, 7)\n",
    "\n",
    "    # Calculate the latitude and longitude for the lower-right corner of the bounding box\n",
    "    lower_right_lat = round(latitude + delta, 7)\n",
    "    lower_right_lon = round(longitude + delta, 7)\n",
    "    return (upper_left_lat, upper_left_lon, lower_right_lat, lower_right_lon)"
   ]
  },
  {
   "cell_type": "code",
   "execution_count": 5,
   "metadata": {},
   "outputs": [],
   "source": [
    "def fetch_data(api_url):\n",
    "    response = requests.get(api_url)\n",
    "    return response.json()\n"
   ]
  },
  {
   "cell_type": "code",
   "execution_count": 6,
   "metadata": {},
   "outputs": [],
   "source": [
    "def fetch_data_xml(api_url):\n",
    "    response = requests.get(api_url)\n",
    "    root = ET.fromstring(response.content)\n",
    "    return root"
   ]
  },
  {
   "cell_type": "code",
   "execution_count": 13,
   "metadata": {},
   "outputs": [],
   "source": [
    "def getLatitudLongitud(ciudad):\n",
    "    URL = 'https://nominatim.openstreetmap.org/search?q='+ciudad+'&format=json'\n",
    "    data = fetch_data(URL)\n",
    "    lat = data[0]['lat']\n",
    "    #cast to float\n",
    "    lat = float(lat)\n",
    "    lon = data[0]['lon']\n",
    "    #cast to float\n",
    "    lon = float(lon)\n",
    "    return lat, lon\n",
    "\n",
    "def getDailyWeather(lat, lon):\n",
    "    #https://api.open-meteo.com/v1/forecast?latitude=-12.04&longitude=-77.03&forecast_days=2&daily=temperature_2m_max&timezone=PST\n",
    "    URL = 'https://api.open-meteo.com/v1/forecast?latitude='+str(lat)+'&longitude='+str(lon)+'&forecast_days=2&daily=temperature_2m_max&timezone=PST'\n",
    "    data = fetch_data(URL) #temperature_2m_max\n",
    "    # pair up (time,temperature_2m_max)\n",
    "    result = []\n",
    "    for i in range(len(data['daily']['temperature_2m_max'])):\n",
    "        obj = {}\n",
    "        key = data['daily']['time'][i]\n",
    "        obj[key] = data['daily']['temperature_2m_max'][i]\n",
    "        result.append(obj)\n",
    "        \n",
    "    return result\n",
    "\n",
    "def getHourlyWeather(lat, lon):\n",
    "    #https://api.open-meteo.com/v1/forecast?latitude=-12.04&longitude=-77.03&forecast_days=2&hourly=temperature_2m&timezone=PST\n",
    "    URL = 'https://api.open-meteo.com/v1/forecast?latitude='+str(lat)+'&longitude='+str(lon)+'&forecast_days=2&hourly=temperature_2m&timezone=PST'\n",
    "    data = fetch_data(URL)#temperature_2m\n",
    "    # pair up (time,temperature_2m)\n",
    "    result = []\n",
    "    for i in range(len(data['hourly']['temperature_2m'])):\n",
    "        obj = {}\n",
    "        key = data['hourly']['time'][i]\n",
    "        obj[key] = data['hourly']['temperature_2m'][i]\n",
    "        result.append(obj)\n",
    "    return result"
   ]
  },
  {
   "cell_type": "code",
   "execution_count": 14,
   "metadata": {},
   "outputs": [
    {
     "name": "stdout",
     "output_type": "stream",
     "text": [
      "-12.0781861 -77.04640320962204\n",
      "[{'2023-10-25': 19.7}, {'2023-10-26': 19.8}]\n",
      "[{'2023-10-25T00:00': 16.9}, {'2023-10-25T01:00': 16.9}, {'2023-10-25T02:00': 17.0}, {'2023-10-25T03:00': 17.1}, {'2023-10-25T04:00': 17.2}, {'2023-10-25T05:00': 17.0}, {'2023-10-25T06:00': 17.3}, {'2023-10-25T07:00': 17.8}, {'2023-10-25T08:00': 18.6}, {'2023-10-25T09:00': 19.2}, {'2023-10-25T10:00': 19.7}, {'2023-10-25T11:00': 19.2}, {'2023-10-25T12:00': 18.9}, {'2023-10-25T13:00': 18.4}, {'2023-10-25T14:00': 18.0}, {'2023-10-25T15:00': 17.6}, {'2023-10-25T16:00': 17.1}, {'2023-10-25T17:00': 16.8}, {'2023-10-25T18:00': 16.7}, {'2023-10-25T19:00': 16.7}, {'2023-10-25T20:00': 16.7}, {'2023-10-25T21:00': 16.6}, {'2023-10-25T22:00': 16.6}, {'2023-10-25T23:00': 16.6}, {'2023-10-26T00:00': 16.7}, {'2023-10-26T01:00': 16.7}, {'2023-10-26T02:00': 16.7}, {'2023-10-26T03:00': 16.7}, {'2023-10-26T04:00': 16.7}, {'2023-10-26T05:00': 16.9}, {'2023-10-26T06:00': 17.5}, {'2023-10-26T07:00': 18.1}, {'2023-10-26T08:00': 18.8}, {'2023-10-26T09:00': 19.2}, {'2023-10-26T10:00': 19.6}, {'2023-10-26T11:00': 19.8}, {'2023-10-26T12:00': 19.5}, {'2023-10-26T13:00': 19.0}, {'2023-10-26T14:00': 18.4}, {'2023-10-26T15:00': 18.0}, {'2023-10-26T16:00': 17.3}, {'2023-10-26T17:00': 16.9}, {'2023-10-26T18:00': 16.8}, {'2023-10-26T19:00': 16.7}, {'2023-10-26T20:00': 16.7}, {'2023-10-26T21:00': 16.7}, {'2023-10-26T22:00': 16.6}, {'2023-10-26T23:00': 16.6}]\n"
     ]
    }
   ],
   "source": [
    "lat,long = getLatitudLongitud('jesus maria lima')\n",
    "print(lat,long)\n",
    "daily = getDailyWeather(lat, long)\n",
    "hourly = getHourlyWeather(lat, long)\n",
    "print(daily) #temperature_2m_max\n",
    "print(hourly) #temperature_2m\n",
    "\n"
   ]
  },
  {
   "cell_type": "code",
   "execution_count": 76,
   "metadata": {},
   "outputs": [
    {
     "name": "stdout",
     "output_type": "stream",
     "text": [
      "(-12.0881861, -77.0564032, -12.0681861, -77.0364032)\n"
     ]
    }
   ],
   "source": [
    "box = create_bounding_box(lat,long,DELTA)\n",
    "print(box)"
   ]
  },
  {
   "cell_type": "code",
   "execution_count": 46,
   "metadata": {},
   "outputs": [],
   "source": [
    "#bien\n",
    "#https://api.openstreetmap.org/api/0.6/map?bbox=-77.0564032,-12.0881861,-77.0564032,-12.0781861\n",
    "#mal\n",
    "#https://api.openstreetmap.org/api/0.6/map?bbox=-77.0364032,-12.0881861,-77.0364032,-12.0881861"
   ]
  },
  {
   "cell_type": "code",
   "execution_count": 80,
   "metadata": {},
   "outputs": [],
   "source": [
    "def getResutaranteBYBox(box):\n",
    "    URL = 'https://api.openstreetmap.org/api/0.6/map?bbox='+str(box[1])+','+str(box[0])+','+str(box[3])+','+str(box[2])\n",
    "    print(URL)\n",
    "    data = fetch_data_xml(URL)\n",
    "    return data"
   ]
  },
  {
   "cell_type": "code",
   "execution_count": 84,
   "metadata": {},
   "outputs": [
    {
     "name": "stdout",
     "output_type": "stream",
     "text": [
      "https://api.openstreetmap.org/api/0.6/map?bbox=-77.0564032,-12.0881861,-77.0364032,-12.0681861\n",
      "<Element 'osm' at 0x7ff04e863630>\n"
     ]
    }
   ],
   "source": [
    "res = getResutaranteBYBox(box)\n",
    "print(res)"
   ]
  },
  {
   "cell_type": "code",
   "execution_count": 121,
   "metadata": {},
   "outputs": [
    {
     "name": "stdout",
     "output_type": "stream",
     "text": [
      "[{'amenity': 'restaurant', 'cuisine': 'indian', 'name': 'Tajmahal Restaurant'}, {'amenity': 'restaurant', 'cuisine': 'sandwich,ice_cream,salchipapa;fried_chicke', 'name': 'Tia Veneno', 'source': 'Reconocimiento cartográfico por KG 2016.'}, {'addr:street': 'Jirón Pablo Bermudez', 'amenity': 'restaurant', 'name': 'Pollería Kendal'}, {'addr:city': 'Jesús María', 'addr:street': 'Avenida Francisco Javier Mariátegui', 'amenity': 'restaurant', 'capacity': '20', 'cuisine': 'regional', 'internet_access': 'wlan', 'name': 'Wira Wira'}, {'addr:housenumber': '311', 'addr:street': 'Avenida Simon Bolivar', 'amenity': 'restaurant', 'name': 'Ohashi Maki', 'opening_hours': 'Mo-Su 12:00-23:00', 'phone': '+51 1 5923284'}, {'addr:street': 'Avenida Salaverry', 'amenity': 'restaurant', 'name': 'Pio Pio'}, {'addr:street': 'Avenida 6 de Agosto', 'amenity': 'restaurant', 'name': \"Norky's\"}, {'addr:street': 'Avenida Cuba', 'amenity': 'restaurant', 'name': 'El Fogón Criollos', 'source': 'Reconocimiento cartográfico de campo 2016 por KG'}, {'addr:street': 'Avenida Cuba', 'amenity': 'restaurant', 'name': 'Don Bosco', 'source': 'Reconocimiento cartográfico de campo 2016 por KG'}, {'addr:city': 'Jesús María', 'addr:street': 'Avenida General Garzon', 'amenity': 'restaurant', 'cuisine': 'chinese', 'name': 'Chifa Xin Cheng', 'source': 'Reconocimiento cartográfico de campo 2016 por KG'}, {'addr:street': 'Avenida Arnaldo Márquez', 'amenity': 'restaurant', 'name': 'Chifa He', 'source': 'Reconocimiento cartográfico de campo 2016 por KG'}, {'addr:city': 'Jesús María', 'addr:street': 'Avenida Arnaldo Márquez', 'amenity': 'restaurant', 'name': 'Chifa Taiwan', 'source': 'Reconocimiento cartográfico de campo 2016 por KG'}, {'addr:city': 'Jesús María', 'addr:housenumber': '1273', 'addr:street': 'Avenida Arnaldo Márquez', 'amenity': 'restaurant', 'cuisine': 'peruvian', 'name': 'Culantro pero no tanto', 'source': 'Reconocimiento cartográfico de campo 2016 por KG'}, {'addr:city': 'Jesús María', 'addr:street': 'Avenida Arnaldo Márquez', 'amenity': 'restaurant', 'cuisine': 'pizza', 'name': 'Pizzeria Zarelle', 'source': 'Reconocimiento cartográfico de campo 2016 por KG'}, {'addr:city': 'Jesús María', 'addr:street': 'Avenida Arnaldo Márquez', 'amenity': 'restaurant', 'name': \"Freddie's Chifa\", 'source': 'Reconocimiento cartográfico de campo 2016 por KG'}, {'addr:street': 'Avenida Brasil', 'amenity': 'restaurant', 'name': 'El Gran Cajamarquez', 'source': 'Reconocimiento cartográfico de campo 2016 por KG'}, {'addr:street': 'Avenida Brasil', 'amenity': 'restaurant', 'cuisine': 'chinese', 'name': 'Chifa', 'source': 'Reconocimiento cartográfico de campo 2016 por KG'}, {'addr:city': 'Pueblo Libre', 'addr:housenumber': '1235', 'addr:street': 'Avenida Brasil', 'amenity': 'restaurant', 'name': 'Cooperativa Kukuli', 'source': 'Reconocimiento cartográfico de campo 2016 por KG'}, {'addr:street': 'Avenida Brasil', 'amenity': 'restaurant', 'name': 'Chifa Wei', 'source': 'Reconocimiento cartográfico de campo 2016 por KG'}, {'addr:street': 'Avenida Simon Bolivar', 'amenity': 'restaurant', 'name': 'Ohas Maki', 'source': 'Reconocimiento cartográfico de campo 2016 por KG'}, {'addr:city': 'Lince', 'addr:street': 'Avenida Julio Cesar Tello', 'amenity': 'restaurant', 'cuisine': 'chinese', 'name': 'Chifa Wha Seng', 'source': 'Reconocimiento cartográfico de campo 2016 por KG'}, {'addr:city': 'Lince', 'addr:street': 'Avenida Julio Cesar Tello', 'amenity': 'restaurant', 'name': 'Osharz', 'source': 'Reconocimiento cartográfico de campo 2016 por KG'}, {'addr:city': 'Jesús María', 'addr:street': 'Avenida Cayetano Heredia', 'amenity': 'restaurant', 'cuisine': 'chinese', 'name': 'Chifa Hong Yi', 'source': 'Reconocimiento cartográfico de campo 2016 por KG'}, {'amenity': 'restaurant', 'source': 'Reconocimiento cartográfico de campo 2016 por KG'}, {'amenity': 'restaurant', 'source': 'Reconocimiento cartográfico de campo 2016 por KG'}, {'addr:street': 'Avenida General Garzon', 'amenity': 'restaurant', 'cuisine': 'chinese', 'name': 'J Chifa', 'source': 'Reconocimiento cartográfico de campo 2016 por KG'}, {'addr:city': 'Jesús María', 'addr:street': 'Avenida General Garzon', 'amenity': 'restaurant', 'name': 'La Pasta de Guille', 'source': 'Reconocimiento cartográfico de campo 2016 por KG'}, {'addr:city': 'Jesús María', 'addr:street': 'Avenida General Garzon', 'amenity': 'restaurant', 'name': 'Wayra', 'source': 'Reconocimiento cartográfico de campo 2016 por KG'}, {'addr:street': 'Avenida Cuba', 'amenity': 'restaurant', 'name': 'Spaguettino', 'source': 'Reconocimiento cartográfico de campo 2016 por KG'}, {'addr:street': 'Avenida Jose Maria Plaza', 'amenity': 'restaurant', 'cuisine': 'chinese', 'name': 'Chifa Lin', 'source': 'Reconocimiento cartográfico de campo 2016 por KG'}, {'addr:street': 'Avenida General Santa Cruz', 'amenity': 'restaurant', 'name': 'Islandia', 'source': 'Reconocimiento cartográfico de campo 2016 por KG'}, {'addr:city': 'Jesús María', 'addr:street': 'Avenida Alvarez de Arenales', 'amenity': 'restaurant', 'cuisine': 'chinese', 'name': 'Chifa Oriental', 'source': 'Reconocimiento cartográfico de campo 2016 por KG'}, {'addr:city': 'Jesús María', 'addr:street': 'Avenida Alvarez de Arenales', 'amenity': 'restaurant', 'cuisine': 'chinese', 'name': 'Chifa Yang Cheng', 'source': 'Reconocimiento cartográfico de campo 2016 por KG'}, {'addr:city': 'Jesús María', 'addr:street': 'Avenida Alvarez de Arenales', 'amenity': 'restaurant', 'name': 'Chifa Zhen Yun', 'source': 'Reconocimiento cartográfico de campo 2016 por KG'}, {'addr:city': 'Jesús María', 'addr:street': 'Avenida Alvarez de Arenales', 'amenity': 'restaurant', 'name': 'Cevicheria El Arenal', 'source': 'Reconocimiento cartográfico de campo 2016 por KG'}, {'amenity': 'restaurant', 'name': 'Cevicheria', 'source': 'Reconocimiento cartográfico de campo 2016 por KG'}, {'addr:street': 'Avenida Alvarez de Arenales', 'amenity': 'restaurant', 'name': 'Berisso', 'source': 'Reconocimiento cartográfico de campo 2016 por KG'}, {'amenity': 'restaurant', 'cuisine': 'chinese', 'source': 'Reconocimiento cartográfico de campo 2016 por KG'}, {'addr:street': 'Avenida General César Canevaro', 'amenity': 'restaurant', 'name': 'Chifa Dragon de Oro', 'source': 'Reconocimiento cartográfico de campo 2016 por KG'}, {'addr:street': 'Avenida General César Canevaro', 'amenity': 'restaurant', 'name': \"Richard's\", 'source': 'Reconocimiento cartográfico de campo 2016 por KG'}, {'addr:street': 'Avenida General César Canevaro', 'amenity': 'restaurant', 'name': \"Oskhar's\", 'source': 'Reconocimiento cartográfico de campo 2016 por KG'}, {'addr:street': 'Jirón Huamachuco', 'amenity': 'restaurant', 'name': 'Tortas Yoselin', 'source': 'Reconocimiento cartográfico por KG 2016.'}, {'addr:city': 'Lince', 'addr:street': 'Avenida Julio Cesar Tello', 'amenity': 'restaurant', 'name': 'Mi Tarconchita', 'source': 'Reconocimiento cartográfico de campo 2016 por KG'}, {'addr:street': 'Jirón Hermilio Valdizán', 'amenity': 'restaurant', 'name': 'LL Gran'}, {'addr:city': 'Jesús María', 'addr:postcode': '15073', 'addr:street': 'Avenida Edgardo Rebagliati', 'amenity': 'restaurant', 'name': \"Benny's\", 'source': 'Reconocimiento cartográfico de campo 2016 por KG'}, {'addr:city': 'Jesús María', 'addr:postcode': '15072', 'addr:street': 'Avenida Edgardo Rebagliati', 'amenity': 'restaurant', 'brand': \"Roky's\", 'brand:wikidata': 'Q116374108', 'cuisine': 'chicken', 'name': \"Roky's\", 'source': 'Reconocimiento cartográfico de campo 2016 por KG', 'takeaway': 'yes'}, {'addr:city': 'Jesús María', 'addr:postcode': '15072', 'addr:street': 'Avenida Edgardo Rebagliati', 'amenity': 'restaurant', 'name': 'Gustos & Gustitos', 'source': 'Reconocimiento cartográfico de campo 2016 por KG'}, {'addr:street': 'Jirón Leon Velarde', 'amenity': 'restaurant', 'name': 'Puerto Fiel', 'source': 'Reconocimiento cartográfico de campo 2016 por KG'}, {'addr:street': 'Avenida General Garzon', 'amenity': 'restaurant', 'name': 'Panes', 'source': 'Reconocimiento cartográfico por KG 2016.'}, {'addr:housenumber': '1571', 'addr:street': 'Avenida General Garzon', 'amenity': 'restaurant', 'name': 'Restaurant RH', 'source': 'Reconocimiento cartográfico por KG 2016.'}, {'addr:housenumber': '1561', 'addr:street': 'Avenida General Garzon', 'amenity': 'restaurant', 'name': 'Mega Pollo', 'source': 'Reconocimiento cartográfico por KG 2016.'}, {'amenity': 'restaurant', 'name': 'Romeito', 'source': 'Reconocimiento cartográfico por KG 2016.'}, {'amenity': 'restaurant', 'cuisine': 'chinese', 'name': 'Chifa Hermanos', 'source': 'Reconocimiento cartográfico por KG 2016.'}, {'addr:street': 'Avenida Horacio Urteaga', 'amenity': 'restaurant', 'name': 'Pancho', 'source': 'Reconocimiento cartográfico por KG 2016.'}, {'addr:street': 'Jirón Mariscal Toribio Luzuriaga', 'amenity': 'restaurant', 'name': 'Xperdent', 'source': 'Reconocimiento cartográfico por KG 2016.'}, {'addr:city': 'Jesús María', 'addr:housenumber': '509', 'addr:street': 'Avenida Talara', 'amenity': 'restaurant', 'name': 'Sayuri'}, {'addr:city': 'Jesús María', 'addr:housenumber': '945', 'addr:street': 'Jirón Cahuide', 'amenity': 'restaurant', 'cuisine': 'seafood', 'name': 'Pedro Solari', 'note': 'Ver http://elcomercio.pe/gastronomia/chefs/pedro-solari-cebichero-al-que-javier-wong-llamapapa-noticia-1596626'}, {'amenity': 'restaurant', 'diet:vegetarian': 'yes'}, {'addr:housenumber': '816', 'addr:street': 'Avenida Gregorio Escobedo', 'amenity': 'restaurant', 'name': 'Chifa choi yi', 'name:es': 'Chifa choi yi', 'opening_hours': '24/7', 'phone': '+51 1 4615105'}, {'amenity': 'restaurant', 'name': 'La Choza Náutica', 'name:es': 'La Choza Náutica', 'phone': '+51 987598027'}, {'amenity': 'restaurant', 'name': 'La Choza Náutica', 'name:es': 'La Choza Náutica', 'phone': '+51 946541646'}, {'addr:street': 'Avenida Horacio Urteaga', 'amenity': 'restaurant', 'name': 'La Choza Náutica', 'name:es': 'La Choza Náutica'}, {'addr:street': 'Jirón Brigadier Mateo Pumacahua', 'amenity': 'restaurant', 'name': 'La Choza Náutica', 'name:es': 'La Choza Náutica'}, {'amenity': 'restaurant'}, {'amenity': 'restaurant', 'name': 'China Town', 'phone': '+51 1 5879521'}, {'amenity': 'restaurant', 'cuisine': 'italian', 'name': 'Trattoria Pizzeria'}, {'amenity': 'restaurant', 'cuisine': 'peruvian;local', 'name': 'Mama Julia'}, {'amenity': 'restaurant', 'diet:vegan': 'yes', 'name': 'Okey Al Natural - Mr. Food'}, {'amenity': 'restaurant', 'description': 'Encuentras todo chifa rest cevi'}, {'addr:housenumber': '663 - 667', 'addr:street': 'Avenida Ricardo Tizon y Bueno', 'amenity': 'restaurant', 'name': 'Tokio Ramen', 'name:en': 'Tokio Ramen Peruvian Japanese Food', 'name:es': 'Tokio Ramen 12-15 y 18:30-21', 'name:pt': 'Tokio ramen Peruvian Japanese Food', 'opening_hours': 'Mo-Su 12:00-03:00'}, {'amenity': 'restaurant', 'cuisine': 'spanish;steak_house;peruvian', 'name': 'La oficina'}, {'amenity': 'restaurant', 'name': 'El tronquito'}, {'amenity': 'restaurant', 'cuisine': 'pizza', 'name': 'Pizza Locale'}, {'amenity': 'restaurant', 'name': 'Chifa Kang Fu'}, {'addr:city': 'Jesús María', 'addr:housenumber': '1300', 'addr:postcode': '15072', 'addr:state': 'Lima', 'addr:street': 'Jirón Pumacahua', 'amenity': 'restaurant', 'contact:facebook': 'https://www.facebook.com/ChifaPalacioCristal', 'cuisine': 'chinese', 'delivery': 'yes', 'diet:fruitarian': 'yes', 'diet:meat': 'yes', 'diet:vegetarian': 'yes', 'name': 'Chifa Palacio Cristal', 'opening_hours': 'Mo-Su 12:00-22:00', 'opening_hours:covid19': 'Mo-Su 12:00-18:00', 'phone': '+51 1 393 7117', 'reservation': 'yes', 'takeaway': 'yes', 'wheelchair': 'yes'}, {'amenity': 'restaurant', 'description': 'Salchipapería y antichuchería', 'name': \"Roberto's\"}, {'amenity': 'restaurant', 'name': 'Pizzas & Pastas Bambino Due'}, {'amenity': 'restaurant', 'name': 'Chifa Hong Fu'}, {'addr:housenumber': '1670', 'addr:street': 'Jirón Huiracocha', 'amenity': 'restaurant', 'name': 'Chifa Guo Sheng', 'phone': '+51 1 2613553'}, {'amenity': 'restaurant', 'description': 'Pollo a la brasa, chaufa y salchipapas.', 'name': 'Bravazo'}, {'amenity': 'restaurant', 'name': 'Pollos a la brasa Miki'}, {'addr:city': 'Jesús María', 'addr:street': 'Avenida Simon Bolivar', 'amenity': 'restaurant', 'building': 'yes', 'cuisine': 'chinese', 'name': 'Chifa Express', 'phone': '+51 1 213 6688', 'source': 'Reconocimiento cartográfico de campo 2016 por KG'}, {'addr:city': 'Jesús María', 'addr:street': 'Avenida Simon Bolivar', 'amenity': 'restaurant', 'building': 'yes', 'cuisine': 'sushi', 'name': 'Mr. Sushi', 'phone': '+51 1 436 8282', 'source': 'Reconocimiento cartográfico de campo 2016 por KG'}, {'addr:street': 'Avenida Cuba', 'amenity': 'restaurant', 'building': 'yes', 'name': 'Anticucheria Doña Julia', 'source': 'Reconocimiento cartográfico de campo 2016 por KG'}, {'addr:city': 'Jesús María', 'addr:street': 'Avenida General Garzon', 'amenity': 'restaurant', 'building': 'yes', 'name': 'Rockys', 'source': 'Reconocimiento cartográfico de campo 2016 por KG'}, {'addr:city': 'Jesús María', 'addr:street': 'Avenida Afranio de Mello Franco', 'amenity': 'restaurant', 'building': 'yes', 'cuisine': 'chicken', 'name': 'Las Tinajas', 'source': 'Reconocimiento cartográfico de campo 2016 por KG'}, {'addr:street': 'Luis M. Sanchez Cerro', 'amenity': 'restaurant', 'building': 'yes', 'name': 'La Baguette', 'source': 'Reconocimiento cartográfico de campo 2016 por KG'}, {'addr:city': 'Jesús María', 'addr:street': 'Jirón Huiracocha', 'amenity': 'restaurant', 'building': 'yes', 'name': 'El Aguajal', 'source': 'Reconocimiento cartográfico de campo 2016 por KG'}, {'addr:street': 'Jirón Huamachuco', 'amenity': 'restaurant', 'building': 'yes', 'description': 'Pollos y pizza', 'name': 'Señor Feudal', 'source': 'Reconocimiento cartográfico de campo 2016 por KG', 'toilets:wheelchair': 'yes', 'wheelchair': 'limited'}, {'addr:street': 'Avenida General Garzon', 'amenity': 'restaurant', 'building': 'yes', 'cuisine': 'chinese', 'name': 'Chifa Lucky', 'source': 'Reconocimiento cartográfico de campo 2016 por KG'}, {'addr:city': 'Jesús María', 'addr:street': 'Avenida General Garzon', 'amenity': 'restaurant', 'building': 'yes', 'name': 'Luna Nueva', 'source': 'Reconocimiento cartográfico de campo 2016 por KG'}, {'addr:city': 'Jesús María', 'addr:street': 'Avenida General Garzon', 'amenity': 'restaurant', 'building': 'yes', 'delivery': 'yes', 'name': 'Don Belisario', 'phone': '+51 1 611 3333', 'source': 'Reconocimiento cartográfico de campo 2016 por KG'}, {'addr:city': 'Jesús María', 'addr:street': 'Avenida General Garzon', 'amenity': 'restaurant', 'building': 'yes', 'name': 'Mr. Criollo', 'source': 'Reconocimiento cartográfico de campo 2016 por KG'}, {'addr:housenumber': '698', 'addr:street': 'Jirón Mayta Capac', 'amenity': 'restaurant', 'brand': 'Pardos Chicken', 'brand:wikidata': 'Q17624435', 'brand:wikipedia': 'en:Pardos chicken', 'building': 'yes', 'cuisine': 'peruvian', 'name': 'Pardos Chicken', 'source': 'Reconocimiento cartográfico de campo 2016 por KG', 'wheelchair': 'limited'}, {'addr:street': 'Avenida Cuba', 'amenity': 'restaurant', 'building': 'yes', 'cuisine': 'fish', 'name': 'María Pastor', 'source': 'Reconocimiento cartográfico de campo 2016 por KG'}, {'addr:street': 'Avenida Arnaldo Márquez', 'amenity': 'restaurant', 'building': 'yes', 'name': 'Ohas Maki', 'source': 'Reconocimiento cartográfico de campo 2016 por KG'}, {'addr:street': 'Avenida Arnaldo Márquez', 'amenity': 'restaurant', 'building': 'yes', 'name': 'El Pregón', 'source': 'Reconocimiento cartográfico de campo 2016 por KG'}, {'addr:street': 'Avenida Arnaldo Márquez', 'amenity': 'restaurant', 'building': 'yes', 'name': 'La Isla del Amor', 'source': 'Reconocimiento cartográfico de campo 2016 por KG'}, {'addr:street': 'jirón Sinchi Roca', 'amenity': 'restaurant', 'building': 'yes', 'cuisine': 'chicken', 'name': 'Corralito', 'source': 'Reconocimiento cartográfico de campo 2016 por KG'}, {'addr:city': 'Jesús María', 'addr:street': 'Avenida Alvarez de Arenales', 'amenity': 'restaurant', 'building': 'yes', 'name': \"Pihuicho's\", 'source': 'Reconocimiento cartográfico de campo 2016 por KG'}, {'addr:street': 'Avenida Cuba', 'amenity': 'restaurant', 'building': 'yes', 'name': 'restaurant Continental', 'source': 'Reconocimiento cartográfico de campo 2016 por KG'}, {'addr:city': 'Jesús María', 'addr:street': 'Avenida Alvarez de Arenales', 'amenity': 'restaurant', 'building': 'yes', 'cuisine': 'chinese', 'name': 'Chifa Wan Hou', 'source': 'Reconocimiento cartográfico de campo 2016 por KG'}, {'addr:street': 'Avenida Alvarez de Arenales', 'amenity': 'restaurant', 'building': 'yes', 'name': 'Caldo de Gallina El Buen Sabor', 'source': 'Reconocimiento cartográfico de campo 2016 por KG'}, {'addr:city': 'San Isidro', 'addr:housenumber': '1502', 'addr:street': 'Avenida Cesar Vallejo', 'amenity': 'restaurant', 'building': 'yes', 'name': 'El Merlín de Cabo Blanco', 'source': 'Reconocimiento cartográfico de campo 2016 por KG', 'website': 'http://www.elmerlin.com/'}, {'addr:city': 'San Isidro', 'addr:housenumber': '190', 'addr:street': 'Calle Roma', 'amenity': 'restaurant', 'building': 'yes', 'name': 'La Casa de España', 'phone': '+51 1 4703456', 'source': 'Reconocimiento cartográfico de campo por KG 2016', 'toilets:wheelchair': 'no', 'website': 'http://www.lacasadeespana.com', 'wheelchair': 'yes', 'wheelchair:description': '(Altura Cdr. 23 Av. Salaverry, espalda del Colegio Sophiano)'}, {'addr:housenumber': '502', 'addr:street': 'Avenida Guillermo Prescott', 'amenity': 'restaurant', 'building': 'yes', 'name': 'Ebisu', 'source': 'Reconocimiento cartográfico de campo 2016 por KG'}, {'addr:city': 'Lince', 'addr:housenumber': '469', 'addr:street': 'Avenida General César Canevaro', 'amenity': 'restaurant', 'building': 'yes', 'name': 'Fuente Natural', 'source': 'Reconocimiento cartográfico de campo 2016 por KG'}, {'addr:city': 'Lince', 'addr:street': 'Avenida General César Canevaro', 'amenity': 'restaurant', 'building': 'yes', 'cuisine': 'chinese', 'name': 'Chifa Tay', 'source': 'Reconocimiento cartográfico de campo 2016 por KG'}, {'addr:city': 'Lince', 'addr:street': 'Avenida General César Canevaro', 'amenity': 'restaurant', 'building': 'yes', 'name': 'El Manjar Marino', 'source': 'Reconocimiento cartográfico de campo 2016 por KG'}, {'addr:street': 'Avenida General Garzon', 'amenity': 'restaurant', 'building': 'yes', 'name': 'El Torito', 'source': 'Reconocimiento cartográfico por KG 2016.'}, {'addr:street': 'Avenida General Garzon', 'amenity': 'restaurant', 'building': 'yes', 'cuisine': 'chinese', 'source': 'Reconocimiento cartográfico por KG 2016.'}, {'addr:street': 'Avenida General Garzon', 'amenity': 'restaurant', 'building': 'yes', 'name': 'Restaurant Criollo Grau', 'source': 'Reconocimiento cartográfico por KG 2016.'}, {'amenity': 'restaurant', 'building': 'yes', 'name': 'Mary', 'source': 'Reconocimiento cartográfico por KG 2016.'}, {'amenity': 'restaurant', 'building': 'yes', 'name': 'Islandia'}, {'addr:street': 'Avenida Salaverry', 'amenity': 'restaurant', 'building': 'yes', 'cuisine': 'chinese', 'name': 'Nora', 'type': 'multipolygon'}]\n"
     ]
    }
   ],
   "source": [
    "restaurants= []\n",
    "for element in res:\n",
    "    # print(element.attrib)\n",
    "    for tag in element:\n",
    "        #si tiene tag k \n",
    "        if 'k' in tag.attrib:\n",
    "            #si el tag k es amenity y el tag v es restaurant\n",
    "            if tag.attrib['k'] == 'amenity' and tag.attrib['v'] == 'restaurant':\n",
    "                restaurants.append(element)\n",
    "            #print all tags \n",
    "\n",
    "# cada tag convierte en un objeto\n",
    "rdata =[]\n",
    "# Find restaurant elements in the XML\n",
    "for element in res:\n",
    "    restaurant_info = {}\n",
    "    for tag in element:\n",
    "        if 'k' not in tag.attrib or 'v' not in tag.attrib:\n",
    "            continue\n",
    "        k = tag.attrib['k']\n",
    "        v = tag.attrib['v']\n",
    "        restaurant_info[k] = v\n",
    "\n",
    "    if 'amenity' in restaurant_info and restaurant_info['amenity'] == 'restaurant':\n",
    "        rdata.append(restaurant_info)\n",
    "   \n",
    "        #     obj[k]=v\n",
    "    # rdata.append(obj)\n",
    "\n",
    "print(rdata)"
   ]
  },
  {
   "cell_type": "code",
   "execution_count": 122,
   "metadata": {},
   "outputs": [],
   "source": [
    "def dict_to_xml(element, dictionary):\n",
    "    for key, value in dictionary.items():\n",
    "        sub_element = ET.SubElement(element, key)\n",
    "        if isinstance(value, dict):\n",
    "            dict_to_xml(sub_element, value)\n",
    "        else:\n",
    "            sub_element.text = str(value)"
   ]
  },
  {
   "cell_type": "code",
   "execution_count": 124,
   "metadata": {},
   "outputs": [
    {
     "name": "stdout",
     "output_type": "stream",
     "text": [
      "<xml.etree.ElementTree.ElementTree object at 0x7ff04e862b50>\n"
     ]
    }
   ],
   "source": [
    "# Create a root element for the XML document\n",
    "root = ET.Element(\"root\")\n",
    "\n",
    "# Iterate over the restaurant information and create XML elements\n",
    "for restaurant_info in rdata:\n",
    "    element = ET.Element(\"element\")\n",
    "    \n",
    "    # Create XML sub-elements for each key-value pair in the restaurant information\n",
    "    for key, value in restaurant_info.items():\n",
    "        tag = ET.Element(\"tag\", attrib={\"k\": key, \"v\": value})\n",
    "        element.append(tag)\n",
    "    \n",
    "    root.append(element)\n",
    "\n",
    "# Create an ElementTree and write it to an XML file\n",
    "tree = ET.ElementTree(root)\n",
    "print(tree)\n",
    "tree.write(\"restaurants.xml\")"
   ]
  },
  {
   "cell_type": "code",
   "execution_count": null,
   "metadata": {},
   "outputs": [],
   "source": []
  }
 ],
 "metadata": {
  "kernelspec": {
   "display_name": "lab-soa",
   "language": "python",
   "name": "python3"
  },
  "language_info": {
   "codemirror_mode": {
    "name": "ipython",
    "version": 3
   },
   "file_extension": ".py",
   "mimetype": "text/x-python",
   "name": "python",
   "nbconvert_exporter": "python",
   "pygments_lexer": "ipython3",
   "version": "3.9.12"
  }
 },
 "nbformat": 4,
 "nbformat_minor": 2
}
